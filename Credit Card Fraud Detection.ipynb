{
 "cells": [
  {
   "cell_type": "code",
   "execution_count": 1,
   "metadata": {},
   "outputs": [
    {
     "name": "stderr",
     "output_type": "stream",
     "text": [
      "Using TensorFlow backend.\n"
     ]
    }
   ],
   "source": [
    "import pandas as pd\n",
    "import numpy as np\n",
    "import pickle\n",
    "import matplotlib.pyplot as plt\n",
    "from scipy import stats\n",
    "import tensorflow as tf\n",
    "import seaborn as sns\n",
    "from pylab import rcParams\n",
    "from sklearn.model_selection import train_test_split\n",
    "from keras.models import Model, load_model\n",
    "from keras.layers import Input, Dense\n",
    "from keras.callbacks import ModelCheckpoint, TensorBoard\n",
    "from keras import regularizers\n",
    "\n",
    "%matplotlib inline\n",
    "\n",
    "sns.set(style='whitegrid', palette='muted', font_scale=1.5)\n",
    "\n",
    "rcParams['figure.figsize'] = 14, 8\n",
    "\n",
    "RANDOM_SEED = 42\n",
    "LABELS = [\"Normal\", \"Fraud\"]"
   ]
  },
  {
   "cell_type": "code",
   "execution_count": 2,
   "metadata": {},
   "outputs": [],
   "source": [
    "df = pd.read_csv('creditcard.csv')"
   ]
  },
  {
   "cell_type": "code",
   "execution_count": 3,
   "metadata": {},
   "outputs": [
    {
     "name": "stdout",
     "output_type": "stream",
     "text": [
      "<class 'pandas.core.frame.DataFrame'>\n",
      "RangeIndex: 284807 entries, 0 to 284806\n",
      "Data columns (total 31 columns):\n",
      "Time      284807 non-null float64\n",
      "V1        284807 non-null float64\n",
      "V2        284807 non-null float64\n",
      "V3        284807 non-null float64\n",
      "V4        284807 non-null float64\n",
      "V5        284807 non-null float64\n",
      "V6        284807 non-null float64\n",
      "V7        284807 non-null float64\n",
      "V8        284807 non-null float64\n",
      "V9        284807 non-null float64\n",
      "V10       284807 non-null float64\n",
      "V11       284807 non-null float64\n",
      "V12       284807 non-null float64\n",
      "V13       284807 non-null float64\n",
      "V14       284807 non-null float64\n",
      "V15       284807 non-null float64\n",
      "V16       284807 non-null float64\n",
      "V17       284807 non-null float64\n",
      "V18       284807 non-null float64\n",
      "V19       284807 non-null float64\n",
      "V20       284807 non-null float64\n",
      "V21       284807 non-null float64\n",
      "V22       284807 non-null float64\n",
      "V23       284807 non-null float64\n",
      "V24       284807 non-null float64\n",
      "V25       284807 non-null float64\n",
      "V26       284807 non-null float64\n",
      "V27       284807 non-null float64\n",
      "V28       284807 non-null float64\n",
      "Amount    284807 non-null float64\n",
      "Class     284807 non-null int64\n",
      "dtypes: float64(30), int64(1)\n",
      "memory usage: 67.4 MB\n"
     ]
    }
   ],
   "source": [
    "df.info()"
   ]
  },
  {
   "cell_type": "code",
   "execution_count": 21,
   "metadata": {},
   "outputs": [
    {
     "data": {
      "text/html": [
       "<div>\n",
       "<style scoped>\n",
       "    .dataframe tbody tr th:only-of-type {\n",
       "        vertical-align: middle;\n",
       "    }\n",
       "\n",
       "    .dataframe tbody tr th {\n",
       "        vertical-align: top;\n",
       "    }\n",
       "\n",
       "    .dataframe thead th {\n",
       "        text-align: right;\n",
       "    }\n",
       "</style>\n",
       "<table border=\"1\" class=\"dataframe\">\n",
       "  <thead>\n",
       "    <tr style=\"text-align: right;\">\n",
       "      <th></th>\n",
       "      <th>Time</th>\n",
       "      <th>V1</th>\n",
       "      <th>V2</th>\n",
       "      <th>V3</th>\n",
       "      <th>V4</th>\n",
       "      <th>V5</th>\n",
       "      <th>V6</th>\n",
       "      <th>V7</th>\n",
       "      <th>V8</th>\n",
       "      <th>V9</th>\n",
       "      <th>...</th>\n",
       "      <th>V21</th>\n",
       "      <th>V22</th>\n",
       "      <th>V23</th>\n",
       "      <th>V24</th>\n",
       "      <th>V25</th>\n",
       "      <th>V26</th>\n",
       "      <th>V27</th>\n",
       "      <th>V28</th>\n",
       "      <th>Amount</th>\n",
       "      <th>Class</th>\n",
       "    </tr>\n",
       "  </thead>\n",
       "  <tbody>\n",
       "    <tr>\n",
       "      <th>0</th>\n",
       "      <td>0.0</td>\n",
       "      <td>-1.359807</td>\n",
       "      <td>-0.072781</td>\n",
       "      <td>2.536347</td>\n",
       "      <td>1.378155</td>\n",
       "      <td>-0.338321</td>\n",
       "      <td>0.462388</td>\n",
       "      <td>0.239599</td>\n",
       "      <td>0.098698</td>\n",
       "      <td>0.363787</td>\n",
       "      <td>...</td>\n",
       "      <td>-0.018307</td>\n",
       "      <td>0.277838</td>\n",
       "      <td>-0.110474</td>\n",
       "      <td>0.066928</td>\n",
       "      <td>0.128539</td>\n",
       "      <td>-0.189115</td>\n",
       "      <td>0.133558</td>\n",
       "      <td>-0.021053</td>\n",
       "      <td>149.62</td>\n",
       "      <td>0</td>\n",
       "    </tr>\n",
       "    <tr>\n",
       "      <th>1</th>\n",
       "      <td>0.0</td>\n",
       "      <td>1.191857</td>\n",
       "      <td>0.266151</td>\n",
       "      <td>0.166480</td>\n",
       "      <td>0.448154</td>\n",
       "      <td>0.060018</td>\n",
       "      <td>-0.082361</td>\n",
       "      <td>-0.078803</td>\n",
       "      <td>0.085102</td>\n",
       "      <td>-0.255425</td>\n",
       "      <td>...</td>\n",
       "      <td>-0.225775</td>\n",
       "      <td>-0.638672</td>\n",
       "      <td>0.101288</td>\n",
       "      <td>-0.339846</td>\n",
       "      <td>0.167170</td>\n",
       "      <td>0.125895</td>\n",
       "      <td>-0.008983</td>\n",
       "      <td>0.014724</td>\n",
       "      <td>2.69</td>\n",
       "      <td>0</td>\n",
       "    </tr>\n",
       "    <tr>\n",
       "      <th>2</th>\n",
       "      <td>1.0</td>\n",
       "      <td>-1.358354</td>\n",
       "      <td>-1.340163</td>\n",
       "      <td>1.773209</td>\n",
       "      <td>0.379780</td>\n",
       "      <td>-0.503198</td>\n",
       "      <td>1.800499</td>\n",
       "      <td>0.791461</td>\n",
       "      <td>0.247676</td>\n",
       "      <td>-1.514654</td>\n",
       "      <td>...</td>\n",
       "      <td>0.247998</td>\n",
       "      <td>0.771679</td>\n",
       "      <td>0.909412</td>\n",
       "      <td>-0.689281</td>\n",
       "      <td>-0.327642</td>\n",
       "      <td>-0.139097</td>\n",
       "      <td>-0.055353</td>\n",
       "      <td>-0.059752</td>\n",
       "      <td>378.66</td>\n",
       "      <td>0</td>\n",
       "    </tr>\n",
       "    <tr>\n",
       "      <th>3</th>\n",
       "      <td>1.0</td>\n",
       "      <td>-0.966272</td>\n",
       "      <td>-0.185226</td>\n",
       "      <td>1.792993</td>\n",
       "      <td>-0.863291</td>\n",
       "      <td>-0.010309</td>\n",
       "      <td>1.247203</td>\n",
       "      <td>0.237609</td>\n",
       "      <td>0.377436</td>\n",
       "      <td>-1.387024</td>\n",
       "      <td>...</td>\n",
       "      <td>-0.108300</td>\n",
       "      <td>0.005274</td>\n",
       "      <td>-0.190321</td>\n",
       "      <td>-1.175575</td>\n",
       "      <td>0.647376</td>\n",
       "      <td>-0.221929</td>\n",
       "      <td>0.062723</td>\n",
       "      <td>0.061458</td>\n",
       "      <td>123.50</td>\n",
       "      <td>0</td>\n",
       "    </tr>\n",
       "    <tr>\n",
       "      <th>4</th>\n",
       "      <td>2.0</td>\n",
       "      <td>-1.158233</td>\n",
       "      <td>0.877737</td>\n",
       "      <td>1.548718</td>\n",
       "      <td>0.403034</td>\n",
       "      <td>-0.407193</td>\n",
       "      <td>0.095921</td>\n",
       "      <td>0.592941</td>\n",
       "      <td>-0.270533</td>\n",
       "      <td>0.817739</td>\n",
       "      <td>...</td>\n",
       "      <td>-0.009431</td>\n",
       "      <td>0.798278</td>\n",
       "      <td>-0.137458</td>\n",
       "      <td>0.141267</td>\n",
       "      <td>-0.206010</td>\n",
       "      <td>0.502292</td>\n",
       "      <td>0.219422</td>\n",
       "      <td>0.215153</td>\n",
       "      <td>69.99</td>\n",
       "      <td>0</td>\n",
       "    </tr>\n",
       "  </tbody>\n",
       "</table>\n",
       "<p>5 rows × 31 columns</p>\n",
       "</div>"
      ],
      "text/plain": [
       "   Time        V1        V2        V3        V4        V5        V6        V7  \\\n",
       "0   0.0 -1.359807 -0.072781  2.536347  1.378155 -0.338321  0.462388  0.239599   \n",
       "1   0.0  1.191857  0.266151  0.166480  0.448154  0.060018 -0.082361 -0.078803   \n",
       "2   1.0 -1.358354 -1.340163  1.773209  0.379780 -0.503198  1.800499  0.791461   \n",
       "3   1.0 -0.966272 -0.185226  1.792993 -0.863291 -0.010309  1.247203  0.237609   \n",
       "4   2.0 -1.158233  0.877737  1.548718  0.403034 -0.407193  0.095921  0.592941   \n",
       "\n",
       "         V8        V9  ...       V21       V22       V23       V24       V25  \\\n",
       "0  0.098698  0.363787  ... -0.018307  0.277838 -0.110474  0.066928  0.128539   \n",
       "1  0.085102 -0.255425  ... -0.225775 -0.638672  0.101288 -0.339846  0.167170   \n",
       "2  0.247676 -1.514654  ...  0.247998  0.771679  0.909412 -0.689281 -0.327642   \n",
       "3  0.377436 -1.387024  ... -0.108300  0.005274 -0.190321 -1.175575  0.647376   \n",
       "4 -0.270533  0.817739  ... -0.009431  0.798278 -0.137458  0.141267 -0.206010   \n",
       "\n",
       "        V26       V27       V28  Amount  Class  \n",
       "0 -0.189115  0.133558 -0.021053  149.62      0  \n",
       "1  0.125895 -0.008983  0.014724    2.69      0  \n",
       "2 -0.139097 -0.055353 -0.059752  378.66      0  \n",
       "3 -0.221929  0.062723  0.061458  123.50      0  \n",
       "4  0.502292  0.219422  0.215153   69.99      0  \n",
       "\n",
       "[5 rows x 31 columns]"
      ]
     },
     "execution_count": 21,
     "metadata": {},
     "output_type": "execute_result"
    }
   ],
   "source": [
    "df.head()"
   ]
  },
  {
   "cell_type": "code",
   "execution_count": 5,
   "metadata": {},
   "outputs": [
    {
     "data": {
      "text/plain": [
       "(284807, 31)"
      ]
     },
     "execution_count": 5,
     "metadata": {},
     "output_type": "execute_result"
    }
   ],
   "source": [
    "df.shape"
   ]
  },
  {
   "cell_type": "code",
   "execution_count": 6,
   "metadata": {},
   "outputs": [
    {
     "data": {
      "text/plain": [
       "False"
      ]
     },
     "execution_count": 6,
     "metadata": {},
     "output_type": "execute_result"
    }
   ],
   "source": [
    "df.isnull().values.any()"
   ]
  },
  {
   "cell_type": "code",
   "execution_count": 7,
   "metadata": {},
   "outputs": [
    {
     "data": {
      "image/png": "[encoded data removed]",
      "text/plain": [
       "<Figure size 432x288 with 1 Axes>"
      ]
     },
     "metadata": {
      "needs_background": "light"
     },
     "output_type": "display_data"
    }
   ],
   "source": [
    "count_classes = pd.value_counts(df['Class'], sort = True)\n",
    "count_classes.plot(kind = 'bar', rot=0)\n",
    "plt.title(\"Transaction class distribution\")\n",
    "plt.xticks(range(2), LABELS)\n",
    "plt.xlabel(\"Class\")\n",
    "plt.ylabel(\"Frequency\");"
   ]
  },
  {
   "cell_type": "code",
   "execution_count": 8,
   "metadata": {},
   "outputs": [],
   "source": [
    "frauds = df[df.Class == 1]\n",
    "normal = df[df.Class == 0]"
   ]
  },
  {
   "cell_type": "code",
   "execution_count": 9,
   "metadata": {},
   "outputs": [
    {
     "data": {
      "text/plain": [
       "(492, 31)"
      ]
     },
     "execution_count": 9,
     "metadata": {},
     "output_type": "execute_result"
    }
   ],
   "source": [
    "frauds.shape"
   ]
  },
  {
   "cell_type": "code",
   "execution_count": 10,
   "metadata": {},
   "outputs": [
    {
     "data": {
      "text/plain": [
       "(284315, 31)"
      ]
     },
     "execution_count": 10,
     "metadata": {},
     "output_type": "execute_result"
    }
   ],
   "source": [
    "normal.shape"
   ]
  },
  {
   "cell_type": "code",
   "execution_count": 11,
   "metadata": {},
   "outputs": [
    {
     "data": {
      "text/plain": [
       "count     492.000000\n",
       "mean      122.211321\n",
       "std       256.683288\n",
       "min         0.000000\n",
       "25%         1.000000\n",
       "50%         9.250000\n",
       "75%       105.890000\n",
       "max      2125.870000\n",
       "Name: Amount, dtype: float64"
      ]
     },
     "execution_count": 11,
     "metadata": {},
     "output_type": "execute_result"
    }
   ],
   "source": [
    "frauds.Amount.describe()"
   ]
  },
  {
   "cell_type": "code",
   "execution_count": 12,
   "metadata": {},
   "outputs": [
    {
     "data": {
      "text/plain": [
       "count    284315.000000\n",
       "mean         88.291022\n",
       "std         250.105092\n",
       "min           0.000000\n",
       "25%           5.650000\n",
       "50%          22.000000\n",
       "75%          77.050000\n",
       "max       25691.160000\n",
       "Name: Amount, dtype: float64"
      ]
     },
     "execution_count": 12,
     "metadata": {},
     "output_type": "execute_result"
    }
   ],
   "source": [
    "normal.Amount.describe()"
   ]
  },
  {
   "cell_type": "code",
   "execution_count": 13,
   "metadata": {},
   "outputs": [
    {
     "data": {
      "image/png": "[encoded data removed]",
      "text/plain": [
       "<Figure size 432x288 with 2 Axes>"
      ]
     },
     "metadata": {
      "needs_background": "light"
     },
     "output_type": "display_data"
    }
   ],
   "source": [
    "f, (ax1, ax2) = plt.subplots(2, 1, sharex=True)\n",
    "f.suptitle('Amount per transaction by class')\n",
    "\n",
    "bins = 50\n",
    "\n",
    "ax1.hist(frauds.Amount, bins = bins)\n",
    "ax1.set_title('Fraud')\n",
    "\n",
    "ax2.hist(normal.Amount, bins = bins)\n",
    "ax2.set_title('Normal')\n",
    "\n",
    "plt.xlabel('Amount ($)')\n",
    "plt.ylabel('Number of Transactions')\n",
    "plt.xlim((0, 20000))\n",
    "plt.yscale('log')\n",
    "plt.show();"
   ]
  },
  {
   "cell_type": "code",
   "execution_count": 18,
   "metadata": {},
   "outputs": [
    {
     "data": {
      "image/png": "[encoded data removed]",
      "text/plain": [
       "<Figure size 432x288 with 2 Axes>"
      ]
     },
     "metadata": {
      "needs_background": "light"
     },
     "output_type": "display_data"
    },
    {
     "data": {
      "text/plain": [
       "<Figure size 720x432 with 0 Axes>"
      ]
     },
     "metadata": {},
     "output_type": "display_data"
    }
   ],
   "source": [
    "f, (ax1, ax2) = plt.subplots(2, 1, sharex=True)\n",
    "f.suptitle('Time of transaction vs Amount by class')\n",
    "\n",
    "ax1.scatter(frauds.Time, frauds.Amount)\n",
    "ax1.set_title('Fraud')\n",
    "\n",
    "ax2.scatter(normal.Time, normal.Amount)\n",
    "ax2.set_title('Normal')\n",
    "\n",
    "\n",
    "plt.xlabel('Time (in Seconds)')\n",
    "plt.ylabel('Amount')\n",
    "plt.show()"
   ]
  },
  {
   "cell_type": "code",
   "execution_count": 20,
   "metadata": {},
   "outputs": [],
   "source": [
    "X = df.iloc[:,:-1]\n",
    "y = df['Class']\n",
    "X_train, X_test, y_train, y_test = train_test_split(X, y, test_size=0.33)"
   ]
  },
  {
   "cell_type": "code",
   "execution_count": 23,
   "metadata": {},
   "outputs": [
    {
     "name": "stdout",
     "output_type": "stream",
     "text": [
      "WARNING:tensorflow:From C:\\Users\\kkopperla\\AppData\\Local\\Continuum\\anaconda2\\envs\\py37\\lib\\site-packages\\keras\\backend\\tensorflow_backend.py:66: The name tf.get_default_graph is deprecated. Please use tf.compat.v1.get_default_graph instead.\n",
      "\n",
      "WARNING:tensorflow:From C:\\Users\\kkopperla\\AppData\\Local\\Continuum\\anaconda2\\envs\\py37\\lib\\site-packages\\keras\\backend\\tensorflow_backend.py:541: The name tf.placeholder is deprecated. Please use tf.compat.v1.placeholder instead.\n",
      "\n",
      "WARNING:tensorflow:From C:\\Users\\kkopperla\\AppData\\Local\\Continuum\\anaconda2\\envs\\py37\\lib\\site-packages\\keras\\backend\\tensorflow_backend.py:4432: The name tf.random_uniform is deprecated. Please use tf.random.uniform instead.\n",
      "\n",
      "WARNING:tensorflow:From C:\\Users\\kkopperla\\AppData\\Local\\Continuum\\anaconda2\\envs\\py37\\lib\\site-packages\\keras\\optimizers.py:793: The name tf.train.Optimizer is deprecated. Please use tf.compat.v1.train.Optimizer instead.\n",
      "\n",
      "WARNING:tensorflow:From C:\\Users\\kkopperla\\AppData\\Local\\Continuum\\anaconda2\\envs\\py37\\lib\\site-packages\\keras\\backend\\tensorflow_backend.py:3657: The name tf.log is deprecated. Please use tf.math.log instead.\n",
      "\n",
      "WARNING:tensorflow:From C:\\Users\\kkopperla\\AppData\\Local\\Continuum\\anaconda2\\envs\\py37\\lib\\site-packages\\tensorflow\\python\\ops\\nn_impl.py:180: add_dispatch_support.<locals>.wrapper (from tensorflow.python.ops.array_ops) is deprecated and will be removed in a future version.\n",
      "Instructions for updating:\n",
      "Use tf.where in 2.0, which has the same broadcast rule as np.where\n",
      "Model: \"sequential_1\"\n",
      "_________________________________________________________________\n",
      "Layer (type)                 Output Shape              Param #   \n",
      "=================================================================\n",
      "dense_1 (Dense)              (None, 30)                930       \n",
      "_________________________________________________________________\n",
      "dense_2 (Dense)              (None, 1)                 31        \n",
      "=================================================================\n",
      "Total params: 961\n",
      "Trainable params: 961\n",
      "Non-trainable params: 0\n",
      "_________________________________________________________________\n"
     ]
    }
   ],
   "source": [
    "from keras.models import Sequential\n",
    "model = Sequential()\n",
    "model.add(Dense(30, input_dim=30, activation='relu'))     # kernel_initializer='normal'\n",
    "model.add(Dense(1, activation='sigmoid'))                 # kernel_initializer='normal'\n",
    "model.compile(loss='binary_crossentropy', optimizer='adam', metrics=['accuracy'])\n",
    "model.summary()"
   ]
  },
  {
   "cell_type": "code",
   "execution_count": 24,
   "metadata": {},
   "outputs": [
    {
     "name": "stderr",
     "output_type": "stream",
     "text": [
      "C:\\Users\\kkopperla\\AppData\\Local\\Continuum\\anaconda2\\envs\\py37\\lib\\site-packages\\ipykernel_launcher.py:1: FutureWarning: Method .as_matrix will be removed in a future version. Use .values instead.\n",
      "  \"\"\"Entry point for launching an IPython kernel.\n"
     ]
    },
    {
     "name": "stdout",
     "output_type": "stream",
     "text": [
      "WARNING:tensorflow:From C:\\Users\\kkopperla\\AppData\\Local\\Continuum\\anaconda2\\envs\\py37\\lib\\site-packages\\keras\\backend\\tensorflow_backend.py:1033: The name tf.assign_add is deprecated. Please use tf.compat.v1.assign_add instead.\n",
      "\n",
      "Epoch 1/1\n",
      "190820/190820 [==============================] - 9s 45us/step - loss: 0.8068 - acc: 0.9494\n"
     ]
    },
    {
     "data": {
      "text/plain": [
       "<keras.callbacks.History at 0x26a4cc06c18>"
      ]
     },
     "execution_count": 24,
     "metadata": {},
     "output_type": "execute_result"
    }
   ],
   "source": [
    "\n",
    "model.fit(X_train.as_matrix(), y_train, epochs=1)"
   ]
  },
  {
   "cell_type": "code",
   "execution_count": 25,
   "metadata": {},
   "outputs": [
    {
     "name": "stderr",
     "output_type": "stream",
     "text": [
      "C:\\Users\\kkopperla\\AppData\\Local\\Continuum\\anaconda2\\envs\\py37\\lib\\site-packages\\ipykernel_launcher.py:1: FutureWarning: Method .as_matrix will be removed in a future version. Use .values instead.\n",
      "  \"\"\"Entry point for launching an IPython kernel.\n"
     ]
    }
   ],
   "source": [
    "predictions = model.predict(X_test.as_matrix()).T[0].astype(int)"
   ]
  },
  {
   "cell_type": "code",
   "execution_count": 29,
   "metadata": {},
   "outputs": [
    {
     "name": "stdout",
     "output_type": "stream",
     "text": [
      "              precision    recall  f1-score   support\n",
      "\n",
      "           0       1.00      1.00      1.00     93824\n",
      "           1       0.00      0.00      0.00       163\n",
      "\n",
      "    accuracy                           1.00     93987\n",
      "   macro avg       0.50      0.50      0.50     93987\n",
      "weighted avg       1.00      1.00      1.00     93987\n",
      "\n"
     ]
    },
    {
     "name": "stderr",
     "output_type": "stream",
     "text": [
      "C:\\Users\\kkopperla\\AppData\\Local\\Continuum\\anaconda2\\envs\\py37\\lib\\site-packages\\sklearn\\metrics\\classification.py:1437: UndefinedMetricWarning: Precision and F-score are ill-defined and being set to 0.0 in labels with no predicted samples.\n",
      "  'precision', 'predicted', average, warn_for)\n"
     ]
    }
   ],
   "source": [
    "from sklearn.metrics import classification_report,confusion_matrix\n",
    "print(classification_report(y_test,predictions))"
   ]
  },
  {
   "cell_type": "code",
   "execution_count": 30,
   "metadata": {},
   "outputs": [
    {
     "name": "stdout",
     "output_type": "stream",
     "text": [
      "[[93824     0]\n",
      " [  163     0]]\n"
     ]
    }
   ],
   "source": [
    "print(confusion_matrix(y_test,predictions))"
   ]
  },
  {
   "cell_type": "code",
   "execution_count": 39,
   "metadata": {},
   "outputs": [],
   "source": [
    "# Using Autoencoders\n",
    "\n",
    "from sklearn.preprocessing import StandardScaler\n",
    "\n",
    "data = df.drop(['Time'], axis=1)\n",
    "\n",
    "data['Amount'] = StandardScaler().fit_transform(data['Amount'].values.reshape(-1, 1))"
   ]
  },
  {
   "cell_type": "code",
   "execution_count": 40,
   "metadata": {},
   "outputs": [],
   "source": [
    "X_train, X_test = train_test_split(data, test_size=0.2, random_state=RANDOM_SEED)\n",
    "X_train = X_train[X_train.Class == 0]\n",
    "X_train = X_train.drop(['Class'], axis=1)\n",
    "\n",
    "y_test = X_test['Class']\n",
    "X_test = X_test.drop(['Class'], axis=1)\n",
    "\n",
    "X_train = X_train.values\n",
    "X_test = X_test.values"
   ]
  },
  {
   "cell_type": "code",
   "execution_count": 41,
   "metadata": {},
   "outputs": [
    {
     "data": {
      "text/plain": [
       "(227451, 29)"
      ]
     },
     "execution_count": 41,
     "metadata": {},
     "output_type": "execute_result"
    }
   ],
   "source": [
    "X_train.shape"
   ]
  },
  {
   "cell_type": "code",
   "execution_count": 42,
   "metadata": {},
   "outputs": [],
   "source": [
    "input_dim = X_train.shape[1]\n",
    "encoding_dim = 14\n",
    "input_layer = Input(shape=(input_dim, ))\n",
    "\n",
    "encoder = Dense(encoding_dim, activation=\"tanh\", \n",
    "                activity_regularizer=regularizers.l1(10e-5))(input_layer)\n",
    "encoder = Dense(int(encoding_dim / 2), activation=\"relu\")(encoder)\n",
    "\n",
    "decoder = Dense(int(encoding_dim / 2), activation='tanh')(encoder)\n",
    "decoder = Dense(input_dim, activation='relu')(decoder)\n",
    "\n",
    "autoencoder = Model(inputs=input_layer, outputs=decoder)"
   ]
  },
  {
   "cell_type": "code",
   "execution_count": 43,
   "metadata": {},
   "outputs": [
    {
     "name": "stdout",
     "output_type": "stream",
     "text": [
      "Train on 227451 samples, validate on 56962 samples\n",
      "WARNING:tensorflow:From C:\\Users\\kkopperla\\AppData\\Local\\Continuum\\anaconda2\\envs\\py37\\lib\\site-packages\\keras\\callbacks.py:1122: The name tf.summary.merge_all is deprecated. Please use tf.compat.v1.summary.merge_all instead.\n",
      "\n",
      "WARNING:tensorflow:From C:\\Users\\kkopperla\\AppData\\Local\\Continuum\\anaconda2\\envs\\py37\\lib\\site-packages\\keras\\callbacks.py:1125: The name tf.summary.FileWriter is deprecated. Please use tf.compat.v1.summary.FileWriter instead.\n",
      "\n",
      "Epoch 1/100\n",
      "227451/227451 [==============================] - 12s 53us/step - loss: 0.8251 - acc: 0.5586 - val_loss: 0.7953 - val_acc: 0.6403\n",
      "Epoch 2/100\n",
      "227451/227451 [==============================] - 11s 49us/step - loss: 0.7553 - acc: 0.6489 - val_loss: 0.7816 - val_acc: 0.6544\n",
      "Epoch 3/100\n",
      "227451/227451 [==============================] - 11s 47us/step - loss: 0.7448 - acc: 0.6573 - val_loss: 0.7712 - val_acc: 0.6599\n",
      "Epoch 4/100\n",
      "227451/227451 [==============================] - 11s 49us/step - loss: 0.7393 - acc: 0.6666 - val_loss: 0.7675 - val_acc: 0.6746\n",
      "Epoch 5/100\n",
      "227451/227451 [==============================] - 12s 52us/step - loss: 0.7363 - acc: 0.6744 - val_loss: 0.7659 - val_acc: 0.6750\n",
      "Epoch 6/100\n",
      "227451/227451 [==============================] - 11s 50us/step - loss: 0.7345 - acc: 0.6797 - val_loss: 0.7702 - val_acc: 0.6673\n",
      "Epoch 7/100\n",
      "227451/227451 [==============================] - 12s 52us/step - loss: 0.7331 - acc: 0.6827 - val_loss: 0.7621 - val_acc: 0.6887\n",
      "Epoch 8/100\n",
      "227451/227451 [==============================] - 13s 56us/step - loss: 0.7318 - acc: 0.6873 - val_loss: 0.7623 - val_acc: 0.6885\n",
      "Epoch 9/100\n",
      "227451/227451 [==============================] - 11s 49us/step - loss: 0.7307 - acc: 0.6893 - val_loss: 0.7603 - val_acc: 0.6886\n",
      "Epoch 10/100\n",
      "227451/227451 [==============================] - 13s 59us/step - loss: 0.7300 - acc: 0.6912 - val_loss: 0.7608 - val_acc: 0.6913\n",
      "Epoch 11/100\n",
      "227451/227451 [==============================] - 12s 53us/step - loss: 0.7296 - acc: 0.6929 - val_loss: 0.7594 - val_acc: 0.6946\n",
      "Epoch 12/100\n",
      "227451/227451 [==============================] - 12s 52us/step - loss: 0.7291 - acc: 0.6952 - val_loss: 0.7603 - val_acc: 0.6921\n",
      "Epoch 13/100\n",
      "227451/227451 [==============================] - 12s 52us/step - loss: 0.7286 - acc: 0.6958 - val_loss: 0.7591 - val_acc: 0.6954\n",
      "Epoch 14/100\n",
      "227451/227451 [==============================] - 11s 48us/step - loss: 0.7284 - acc: 0.6970 - val_loss: 0.7583 - val_acc: 0.7012\n",
      "Epoch 15/100\n",
      "227451/227451 [==============================] - 15s 67us/step - loss: 0.7280 - acc: 0.6981 - val_loss: 0.7579 - val_acc: 0.6992\n",
      "Epoch 16/100\n",
      "227451/227451 [==============================] - 12s 51us/step - loss: 0.7278 - acc: 0.6997 - val_loss: 0.7573 - val_acc: 0.7023\n",
      "Epoch 17/100\n",
      "227451/227451 [==============================] - 10s 46us/step - loss: 0.7276 - acc: 0.6991 - val_loss: 0.7579 - val_acc: 0.6925\n",
      "Epoch 18/100\n",
      "227451/227451 [==============================] - 10s 46us/step - loss: 0.7274 - acc: 0.7003 - val_loss: 0.7562 - val_acc: 0.6920\n",
      "Epoch 19/100\n",
      "227451/227451 [==============================] - 10s 45us/step - loss: 0.7275 - acc: 0.7009 - val_loss: 0.7578 - val_acc: 0.6940\n",
      "Epoch 20/100\n",
      "227451/227451 [==============================] - 11s 48us/step - loss: 0.7273 - acc: 0.7011 - val_loss: 0.7594 - val_acc: 0.7020\n",
      "Epoch 21/100\n",
      "227451/227451 [==============================] - 11s 50us/step - loss: 0.7271 - acc: 0.7027 - val_loss: 0.7565 - val_acc: 0.6999\n",
      "Epoch 22/100\n",
      "227451/227451 [==============================] - 10s 46us/step - loss: 0.7271 - acc: 0.7026 - val_loss: 0.7654 - val_acc: 0.7035\n",
      "Epoch 23/100\n",
      "227451/227451 [==============================] - 11s 48us/step - loss: 0.7268 - acc: 0.7037 - val_loss: 0.7589 - val_acc: 0.6964\n",
      "Epoch 24/100\n",
      "227451/227451 [==============================] - 11s 48us/step - loss: 0.7268 - acc: 0.7024 - val_loss: 0.7562 - val_acc: 0.6992\n",
      "Epoch 25/100\n",
      "227451/227451 [==============================] - 10s 46us/step - loss: 0.7268 - acc: 0.7036 - val_loss: 0.7568 - val_acc: 0.7056\n",
      "Epoch 26/100\n",
      "227451/227451 [==============================] - 12s 54us/step - loss: 0.7267 - acc: 0.7029 - val_loss: 0.7557 - val_acc: 0.7010\n",
      "Epoch 27/100\n",
      "227451/227451 [==============================] - 14s 60us/step - loss: 0.7266 - acc: 0.7036 - val_loss: 0.7568 - val_acc: 0.7056\n",
      "Epoch 28/100\n",
      "227451/227451 [==============================] - 12s 52us/step - loss: 0.7262 - acc: 0.7042 - val_loss: 0.7556 - val_acc: 0.7049\n",
      "Epoch 29/100\n",
      "227451/227451 [==============================] - 11s 49us/step - loss: 0.7261 - acc: 0.7046 - val_loss: 0.7575 - val_acc: 0.7019\n",
      "Epoch 30/100\n",
      "227451/227451 [==============================] - 11s 47us/step - loss: 0.7266 - acc: 0.7037 - val_loss: 0.7567 - val_acc: 0.7059\n",
      "Epoch 31/100\n",
      "227451/227451 [==============================] - 11s 48us/step - loss: 0.7263 - acc: 0.7044 - val_loss: 0.7545 - val_acc: 0.7055\n",
      "Epoch 32/100\n",
      "227451/227451 [==============================] - 12s 52us/step - loss: 0.7259 - acc: 0.7046 - val_loss: 0.7550 - val_acc: 0.7084\n",
      "Epoch 33/100\n",
      "227451/227451 [==============================] - 11s 48us/step - loss: 0.7258 - acc: 0.7056 - val_loss: 0.7574 - val_acc: 0.7082\n",
      "Epoch 34/100\n",
      "227451/227451 [==============================] - 11s 47us/step - loss: 0.7257 - acc: 0.7052 - val_loss: 0.7550 - val_acc: 0.6997\n",
      "Epoch 35/100\n",
      "227451/227451 [==============================] - 11s 49us/step - loss: 0.7257 - acc: 0.7055 - val_loss: 0.7567 - val_acc: 0.7104\n",
      "Epoch 36/100\n",
      "227451/227451 [==============================] - 11s 46us/step - loss: 0.7256 - acc: 0.7054 - val_loss: 0.7547 - val_acc: 0.7079\n",
      "Epoch 37/100\n",
      "227451/227451 [==============================] - 11s 48us/step - loss: 0.7255 - acc: 0.7068 - val_loss: 0.7553 - val_acc: 0.6997\n",
      "Epoch 38/100\n",
      "227451/227451 [==============================] - 11s 50us/step - loss: 0.7253 - acc: 0.7058 - val_loss: 0.7557 - val_acc: 0.7062\n",
      "Epoch 39/100\n",
      "227451/227451 [==============================] - 11s 46us/step - loss: 0.7254 - acc: 0.7063 - val_loss: 0.7545 - val_acc: 0.7093\n",
      "Epoch 40/100\n",
      "227451/227451 [==============================] - 11s 47us/step - loss: 0.7254 - acc: 0.7061 - val_loss: 0.7580 - val_acc: 0.6929\n",
      "Epoch 41/100\n",
      "227451/227451 [==============================] - 11s 47us/step - loss: 0.7250 - acc: 0.7060 - val_loss: 0.7555 - val_acc: 0.7073\n",
      "Epoch 42/100\n",
      "227451/227451 [==============================] - 11s 47us/step - loss: 0.7250 - acc: 0.7069 - val_loss: 0.7550 - val_acc: 0.7000\n",
      "Epoch 43/100\n",
      "227451/227451 [==============================] - 12s 52us/step - loss: 0.7255 - acc: 0.7068 - val_loss: 0.7557 - val_acc: 0.7043\n",
      "Epoch 44/100\n",
      "227451/227451 [==============================] - 11s 47us/step - loss: 0.7250 - acc: 0.7063 - val_loss: 0.7574 - val_acc: 0.7108\n",
      "Epoch 45/100\n",
      "227451/227451 [==============================] - 11s 47us/step - loss: 0.7249 - acc: 0.7063 - val_loss: 0.7549 - val_acc: 0.7078\n",
      "Epoch 46/100\n",
      "227451/227451 [==============================] - 11s 46us/step - loss: 0.7250 - acc: 0.7065 - val_loss: 0.7543 - val_acc: 0.7127\n",
      "Epoch 47/100\n",
      "227451/227451 [==============================] - 11s 49us/step - loss: 0.7247 - acc: 0.7070 - val_loss: 0.7546 - val_acc: 0.7034\n",
      "Epoch 48/100\n",
      "227451/227451 [==============================] - 11s 48us/step - loss: 0.7246 - acc: 0.7065 - val_loss: 0.7541 - val_acc: 0.7120\n",
      "Epoch 49/100\n",
      "227451/227451 [==============================] - 11s 50us/step - loss: 0.7242 - acc: 0.7070 - val_loss: 0.7543 - val_acc: 0.7020\n",
      "Epoch 50/100\n",
      "227451/227451 [==============================] - 11s 49us/step - loss: 0.7248 - acc: 0.7069 - val_loss: 0.7561 - val_acc: 0.7082\n",
      "Epoch 51/100\n",
      "227451/227451 [==============================] - 11s 46us/step - loss: 0.7245 - acc: 0.7063 - val_loss: 0.7563 - val_acc: 0.7037\n",
      "Epoch 52/100\n",
      "227451/227451 [==============================] - 11s 46us/step - loss: 0.7246 - acc: 0.7069 - val_loss: 0.7543 - val_acc: 0.7058\n",
      "Epoch 53/100\n",
      "227451/227451 [==============================] - 11s 48us/step - loss: 0.7242 - acc: 0.7062 - val_loss: 0.7550 - val_acc: 0.7042\n",
      "Epoch 54/100\n",
      "227451/227451 [==============================] - 11s 47us/step - loss: 0.7242 - acc: 0.7069 - val_loss: 0.7559 - val_acc: 0.7038\n",
      "Epoch 55/100\n"
     ]
    },
    {
     "name": "stdout",
     "output_type": "stream",
     "text": [
      "227451/227451 [==============================] - 11s 48us/step - loss: 0.7247 - acc: 0.7064 - val_loss: 0.7556 - val_acc: 0.7104\n",
      "Epoch 56/100\n",
      "227451/227451 [==============================] - 10s 45us/step - loss: 0.7241 - acc: 0.7073 - val_loss: 0.7554 - val_acc: 0.7055\n",
      "Epoch 57/100\n",
      "227451/227451 [==============================] - 10s 45us/step - loss: 0.7241 - acc: 0.7071 - val_loss: 0.7549 - val_acc: 0.7076\n",
      "Epoch 58/100\n",
      "227451/227451 [==============================] - 10s 45us/step - loss: 0.7241 - acc: 0.7066 - val_loss: 0.7538 - val_acc: 0.7047\n",
      "Epoch 59/100\n",
      "227451/227451 [==============================] - 10s 45us/step - loss: 0.7243 - acc: 0.7068 - val_loss: 0.7554 - val_acc: 0.7126\n",
      "Epoch 60/100\n",
      "227451/227451 [==============================] - 10s 46us/step - loss: 0.7244 - acc: 0.7065 - val_loss: 0.7544 - val_acc: 0.7020\n",
      "Epoch 61/100\n",
      "227451/227451 [==============================] - 11s 48us/step - loss: 0.7242 - acc: 0.7065 - val_loss: 0.7544 - val_acc: 0.7041\n",
      "Epoch 62/100\n",
      "227451/227451 [==============================] - 10s 45us/step - loss: 0.7241 - acc: 0.7071 - val_loss: 0.7564 - val_acc: 0.7091\n",
      "Epoch 63/100\n",
      "227451/227451 [==============================] - 10s 44us/step - loss: 0.7242 - acc: 0.7073 - val_loss: 0.7652 - val_acc: 0.7038\n",
      "Epoch 64/100\n",
      "227451/227451 [==============================] - 11s 47us/step - loss: 0.7244 - acc: 0.7067 - val_loss: 0.7548 - val_acc: 0.7047\n",
      "Epoch 65/100\n",
      "227451/227451 [==============================] - 11s 50us/step - loss: 0.7241 - acc: 0.7072 - val_loss: 0.7577 - val_acc: 0.6954\n",
      "Epoch 66/100\n",
      "227451/227451 [==============================] - 13s 56us/step - loss: 0.7239 - acc: 0.7070 - val_loss: 0.7542 - val_acc: 0.7066\n",
      "Epoch 67/100\n",
      "227451/227451 [==============================] - 12s 54us/step - loss: 0.7241 - acc: 0.7072 - val_loss: 0.7554 - val_acc: 0.6976\n",
      "Epoch 68/100\n",
      "227451/227451 [==============================] - 13s 59us/step - loss: 0.7246 - acc: 0.7057 - val_loss: 0.7629 - val_acc: 0.6936\n",
      "Epoch 69/100\n",
      "227451/227451 [==============================] - 13s 56us/step - loss: 0.7241 - acc: 0.7065 - val_loss: 0.7531 - val_acc: 0.7100\n",
      "Epoch 70/100\n",
      "227451/227451 [==============================] - 11s 48us/step - loss: 0.7238 - acc: 0.7057 - val_loss: 0.7549 - val_acc: 0.7052\n",
      "Epoch 71/100\n",
      "227451/227451 [==============================] - 12s 54us/step - loss: 0.7241 - acc: 0.7069 - val_loss: 0.7536 - val_acc: 0.7082\n",
      "Epoch 72/100\n",
      "227451/227451 [==============================] - 11s 50us/step - loss: 0.7236 - acc: 0.7065 - val_loss: 0.7614 - val_acc: 0.6901\n",
      "Epoch 73/100\n",
      "227451/227451 [==============================] - 11s 48us/step - loss: 0.7240 - acc: 0.7065 - val_loss: 0.7538 - val_acc: 0.7123\n",
      "Epoch 74/100\n",
      "227451/227451 [==============================] - 12s 51us/step - loss: 0.7238 - acc: 0.7062 - val_loss: 0.7535 - val_acc: 0.7093\n",
      "Epoch 75/100\n",
      "227451/227451 [==============================] - 11s 48us/step - loss: 0.7235 - acc: 0.7058 - val_loss: 0.7555 - val_acc: 0.7024\n",
      "Epoch 76/100\n",
      "227451/227451 [==============================] - 11s 47us/step - loss: 0.7241 - acc: 0.7065 - val_loss: 0.7537 - val_acc: 0.7025\n",
      "Epoch 77/100\n",
      "227451/227451 [==============================] - 12s 51us/step - loss: 0.7238 - acc: 0.7059 - val_loss: 0.7528 - val_acc: 0.7068\n",
      "Epoch 78/100\n",
      "227451/227451 [==============================] - 11s 46us/step - loss: 0.7237 - acc: 0.7064 - val_loss: 0.7613 - val_acc: 0.7043\n",
      "Epoch 79/100\n",
      "227451/227451 [==============================] - 10s 46us/step - loss: 0.7239 - acc: 0.7064 - val_loss: 0.7615 - val_acc: 0.7072\n",
      "Epoch 80/100\n",
      "227451/227451 [==============================] - 11s 46us/step - loss: 0.7240 - acc: 0.7061 - val_loss: 0.7529 - val_acc: 0.7140\n",
      "Epoch 81/100\n",
      "227451/227451 [==============================] - 10s 46us/step - loss: 0.7246 - acc: 0.7061 - val_loss: 0.7537 - val_acc: 0.7115\n",
      "Epoch 82/100\n",
      "227451/227451 [==============================] - 13s 55us/step - loss: 0.7238 - acc: 0.7062 - val_loss: 0.7555 - val_acc: 0.7010\n",
      "Epoch 83/100\n",
      "227451/227451 [==============================] - 13s 55us/step - loss: 0.7239 - acc: 0.7070 - val_loss: 0.7542 - val_acc: 0.7040\n",
      "Epoch 84/100\n",
      "227451/227451 [==============================] - 11s 47us/step - loss: 0.7237 - acc: 0.7072 - val_loss: 0.7538 - val_acc: 0.7008\n",
      "Epoch 85/100\n",
      "227451/227451 [==============================] - 11s 48us/step - loss: 0.7235 - acc: 0.7066 - val_loss: 0.7550 - val_acc: 0.7007\n",
      "Epoch 86/100\n",
      "227451/227451 [==============================] - 11s 47us/step - loss: 0.7235 - acc: 0.7061 - val_loss: 0.7532 - val_acc: 0.7133\n",
      "Epoch 87/100\n",
      "227451/227451 [==============================] - 11s 50us/step - loss: 0.7234 - acc: 0.7074 - val_loss: 0.7541 - val_acc: 0.7030\n",
      "Epoch 88/100\n",
      "227451/227451 [==============================] - 11s 50us/step - loss: 0.7236 - acc: 0.7064 - val_loss: 0.7533 - val_acc: 0.7114\n",
      "Epoch 89/100\n",
      "227451/227451 [==============================] - 10s 46us/step - loss: 0.7234 - acc: 0.7064 - val_loss: 0.7550 - val_acc: 0.7042\n",
      "Epoch 90/100\n",
      "227451/227451 [==============================] - 11s 48us/step - loss: 0.7236 - acc: 0.7057 - val_loss: 0.7541 - val_acc: 0.7036\n",
      "Epoch 91/100\n",
      "227451/227451 [==============================] - 11s 47us/step - loss: 0.7237 - acc: 0.7059 - val_loss: 0.7539 - val_acc: 0.7024\n",
      "Epoch 92/100\n",
      "227451/227451 [==============================] - 11s 47us/step - loss: 0.7235 - acc: 0.7061 - val_loss: 0.7571 - val_acc: 0.7029\n",
      "Epoch 93/100\n",
      "227451/227451 [==============================] - 11s 50us/step - loss: 0.7237 - acc: 0.7049 - val_loss: 0.7532 - val_acc: 0.7135\n",
      "Epoch 94/100\n",
      "227451/227451 [==============================] - 12s 52us/step - loss: 0.7234 - acc: 0.7061 - val_loss: 0.7538 - val_acc: 0.7073\n",
      "Epoch 95/100\n",
      "227451/227451 [==============================] - 11s 48us/step - loss: 0.7235 - acc: 0.7053 - val_loss: 0.7530 - val_acc: 0.7104\n",
      "Epoch 96/100\n",
      "227451/227451 [==============================] - 12s 54us/step - loss: 0.7233 - acc: 0.7056 - val_loss: 0.7545 - val_acc: 0.7055\n",
      "Epoch 97/100\n",
      "227451/227451 [==============================] - 11s 47us/step - loss: 0.7230 - acc: 0.7056 - val_loss: 0.7535 - val_acc: 0.6973\n",
      "Epoch 98/100\n",
      "227451/227451 [==============================] - 12s 51us/step - loss: 0.7233 - acc: 0.7059 - val_loss: 0.7541 - val_acc: 0.7086\n",
      "Epoch 99/100\n",
      "227451/227451 [==============================] - 11s 51us/step - loss: 0.7234 - acc: 0.7059 - val_loss: 0.7569 - val_acc: 0.7104\n",
      "Epoch 100/100\n",
      "227451/227451 [==============================] - 11s 47us/step - loss: 0.7233 - acc: 0.7058 - val_loss: 0.7538 - val_acc: 0.7091\n"
     ]
    }
   ],
   "source": [
    "nb_epoch = 100\n",
    "batch_size = 32\n",
    "\n",
    "autoencoder.compile(optimizer='adam', \n",
    "                    loss='mean_squared_error', \n",
    "                    metrics=['accuracy'])\n",
    "\n",
    "checkpointer = ModelCheckpoint(filepath=\"model.h5\",\n",
    "                               verbose=0,\n",
    "                               save_best_only=True)\n",
    "tensorboard = TensorBoard(log_dir='./logs',\n",
    "                          histogram_freq=0,\n",
    "                          write_graph=True,\n",
    "                          write_images=True)\n",
    "\n",
    "history = autoencoder.fit(X_train, X_train,\n",
    "                    epochs=nb_epoch,\n",
    "                    batch_size=batch_size,\n",
    "                    shuffle=True,\n",
    "                    validation_data=(X_test, X_test),\n",
    "                    verbose=1,\n",
    "                    callbacks=[checkpointer, tensorboard]).history"
   ]
  },
  {
   "cell_type": "code",
   "execution_count": 44,
   "metadata": {},
   "outputs": [],
   "source": [
    "autoencoder = load_model('model.h5')"
   ]
  },
  {
   "cell_type": "code",
   "execution_count": 45,
   "metadata": {},
   "outputs": [
    {
     "data": {
      "image/png": "[encoded data removed]",
      "text/plain": [
       "<Figure size 432x288 with 1 Axes>"
      ]
     },
     "metadata": {
      "needs_background": "light"
     },
     "output_type": "display_data"
    }
   ],
   "source": [
    "plt.plot(history['loss'])\n",
    "plt.plot(history['val_loss'])\n",
    "plt.title('model loss')\n",
    "plt.ylabel('loss')\n",
    "plt.xlabel('epoch')\n",
    "plt.legend(['train', 'test'], loc='upper right');"
   ]
  },
  {
   "cell_type": "code",
   "execution_count": 46,
   "metadata": {},
   "outputs": [],
   "source": [
    "predictions = autoencoder.predict(X_test)"
   ]
  },
  {
   "cell_type": "code",
   "execution_count": 47,
   "metadata": {},
   "outputs": [],
   "source": [
    "mse = np.mean(np.power(X_test - predictions, 2), axis=1)\n",
    "error_df = pd.DataFrame({'reconstruction_error': mse,\n",
    "                        'true_class': y_test})"
   ]
  },
  {
   "cell_type": "code",
   "execution_count": 48,
   "metadata": {},
   "outputs": [
    {
     "data": {
      "text/html": [
       "<div>\n",
       "<style scoped>\n",
       "    .dataframe tbody tr th:only-of-type {\n",
       "        vertical-align: middle;\n",
       "    }\n",
       "\n",
       "    .dataframe tbody tr th {\n",
       "        vertical-align: top;\n",
       "    }\n",
       "\n",
       "    .dataframe thead th {\n",
       "        text-align: right;\n",
       "    }\n",
       "</style>\n",
       "<table border=\"1\" class=\"dataframe\">\n",
       "  <thead>\n",
       "    <tr style=\"text-align: right;\">\n",
       "      <th></th>\n",
       "      <th>reconstruction_error</th>\n",
       "      <th>true_class</th>\n",
       "    </tr>\n",
       "  </thead>\n",
       "  <tbody>\n",
       "    <tr>\n",
       "      <th>count</th>\n",
       "      <td>56962.000000</td>\n",
       "      <td>56962.000000</td>\n",
       "    </tr>\n",
       "    <tr>\n",
       "      <th>mean</th>\n",
       "      <td>0.745539</td>\n",
       "      <td>0.001720</td>\n",
       "    </tr>\n",
       "    <tr>\n",
       "      <th>std</th>\n",
       "      <td>3.428324</td>\n",
       "      <td>0.041443</td>\n",
       "    </tr>\n",
       "    <tr>\n",
       "      <th>min</th>\n",
       "      <td>0.052591</td>\n",
       "      <td>0.000000</td>\n",
       "    </tr>\n",
       "    <tr>\n",
       "      <th>25%</th>\n",
       "      <td>0.246652</td>\n",
       "      <td>0.000000</td>\n",
       "    </tr>\n",
       "    <tr>\n",
       "      <th>50%</th>\n",
       "      <td>0.394358</td>\n",
       "      <td>0.000000</td>\n",
       "    </tr>\n",
       "    <tr>\n",
       "      <th>75%</th>\n",
       "      <td>0.627119</td>\n",
       "      <td>0.000000</td>\n",
       "    </tr>\n",
       "    <tr>\n",
       "      <th>max</th>\n",
       "      <td>269.357756</td>\n",
       "      <td>1.000000</td>\n",
       "    </tr>\n",
       "  </tbody>\n",
       "</table>\n",
       "</div>"
      ],
      "text/plain": [
       "       reconstruction_error    true_class\n",
       "count          56962.000000  56962.000000\n",
       "mean               0.745539      0.001720\n",
       "std                3.428324      0.041443\n",
       "min                0.052591      0.000000\n",
       "25%                0.246652      0.000000\n",
       "50%                0.394358      0.000000\n",
       "75%                0.627119      0.000000\n",
       "max              269.357756      1.000000"
      ]
     },
     "execution_count": 48,
     "metadata": {},
     "output_type": "execute_result"
    }
   ],
   "source": [
    "error_df.describe()"
   ]
  },
  {
   "cell_type": "code",
   "execution_count": 58,
   "metadata": {},
   "outputs": [
    {
     "data": {
      "image/png": "[encoded data removed]",
      "text/plain": [
       "<Figure size 432x288 with 1 Axes>"
      ]
     },
     "metadata": {
      "needs_background": "light"
     },
     "output_type": "display_data"
    }
   ],
   "source": [
    "#Reconstruction error without fraud\n",
    "fig = plt.figure()\n",
    "ax = fig.add_subplot(111)\n",
    "normal_error_df = error_df[(error_df['true_class']== 0) & (error_df['reconstruction_error'] < 10)]\n",
    "_ = ax.hist(normal_error_df.reconstruction_error.values, bins=10)"
   ]
  },
  {
   "cell_type": "code",
   "execution_count": 56,
   "metadata": {},
   "outputs": [
    {
     "data": {
      "image/png": "[encoded data removed]",
      "text/plain": [
       "<Figure size 432x288 with 1 Axes>"
      ]
     },
     "metadata": {
      "needs_background": "light"
     },
     "output_type": "display_data"
    }
   ],
   "source": [
    "#Reconstruction error with fraud\n",
    "fig = plt.figure()\n",
    "ax = fig.add_subplot(111)\n",
    "fraud_error_df = error_df[error_df['true_class'] == 1]\n",
    "_ = ax.hist(fraud_error_df.reconstruction_error.values, bins=10)"
   ]
  },
  {
   "cell_type": "code",
   "execution_count": 59,
   "metadata": {},
   "outputs": [],
   "source": [
    "from sklearn.metrics import (confusion_matrix, precision_recall_curve, auc,\n",
    "                             roc_curve, recall_score, classification_report, f1_score,\n",
    "                             precision_recall_fscore_support)"
   ]
  },
  {
   "cell_type": "code",
   "execution_count": 60,
   "metadata": {},
   "outputs": [
    {
     "data": {
      "image/png": "[encoded data removed]",
      "text/plain": [
       "<Figure size 432x288 with 1 Axes>"
      ]
     },
     "metadata": {
      "needs_background": "light"
     },
     "output_type": "display_data"
    }
   ],
   "source": [
    "fpr, tpr, thresholds = roc_curve(error_df.true_class, error_df.reconstruction_error)\n",
    "roc_auc = auc(fpr, tpr)\n",
    "\n",
    "plt.title('Receiver Operating Characteristic')\n",
    "plt.plot(fpr, tpr, label='AUC = %0.4f'% roc_auc)\n",
    "plt.legend(loc='lower right')\n",
    "plt.plot([0,1],[0,1],'r--')\n",
    "plt.xlim([-0.001, 1])\n",
    "plt.ylim([0, 1.001])\n",
    "plt.ylabel('True Positive Rate')\n",
    "plt.xlabel('False Positive Rate')\n",
    "plt.show();"
   ]
  },
  {
   "cell_type": "code",
   "execution_count": 61,
   "metadata": {},
   "outputs": [
    {
     "data": {
      "image/png": "[encoded data removed]",
      "text/plain": [
       "<Figure size 432x288 with 1 Axes>"
      ]
     },
     "metadata": {
      "needs_background": "light"
     },
     "output_type": "display_data"
    }
   ],
   "source": [
    "precision, recall, th = precision_recall_curve(error_df.true_class, error_df.reconstruction_error)\n",
    "plt.plot(recall, precision, 'b', label='Precision-Recall curve')\n",
    "plt.title('Recall vs Precision')\n",
    "plt.xlabel('Recall')\n",
    "plt.ylabel('Precision')\n",
    "plt.show()"
   ]
  },
  {
   "cell_type": "code",
   "execution_count": 62,
   "metadata": {},
   "outputs": [
    {
     "data": {
      "image/png": "[encoded data removed]",
      "text/plain": [
       "<Figure size 432x288 with 1 Axes>"
      ]
     },
     "metadata": {
      "needs_background": "light"
     },
     "output_type": "display_data"
    }
   ],
   "source": [
    "\n",
    "plt.plot(th, precision[1:], 'b', label='Threshold-Precision curve')\n",
    "plt.title('Precision for different threshold values')\n",
    "plt.xlabel('Threshold')\n",
    "plt.ylabel('Precision')\n",
    "plt.show()"
   ]
  },
  {
   "cell_type": "code",
   "execution_count": 63,
   "metadata": {},
   "outputs": [
    {
     "data": {
      "image/png": "[encoded data removed]",
      "text/plain": [
       "<Figure size 432x288 with 1 Axes>"
      ]
     },
     "metadata": {
      "needs_background": "light"
     },
     "output_type": "display_data"
    }
   ],
   "source": [
    "plt.plot(th, recall[1:], 'b', label='Threshold-Recall curve')\n",
    "plt.title('Recall for different threshold values')\n",
    "plt.xlabel('Reconstruction error')\n",
    "plt.ylabel('Recall')\n",
    "plt.show()"
   ]
  },
  {
   "cell_type": "code",
   "execution_count": 67,
   "metadata": {},
   "outputs": [],
   "source": [
    "\n",
    "\n"
   ]
  },
  {
   "cell_type": "code",
   "execution_count": 68,
   "metadata": {},
   "outputs": [
    {
     "data": {
      "image/png": "[encoded data removed]",
      "text/plain": [
       "<Figure size 864x864 with 2 Axes>"
      ]
     },
     "metadata": {
      "needs_background": "light"
     },
     "output_type": "display_data"
    }
   ],
   "source": [
    "\n",
    "y_pred = [1 if e > threshold else 0 for e in error_df.reconstruction_error.values]\n",
    "conf_matrix = confusion_matrix(error_df.true_class, y_pred)\n",
    "\n",
    "plt.figure(figsize=(12, 12))\n",
    "sns.heatmap(conf_matrix, xticklabels=LABELS, yticklabels=LABELS, annot=True, fmt=\"d\");\n",
    "plt.title(\"Confusion matrix\")\n",
    "plt.ylabel('True class')\n",
    "plt.xlabel('Predicted class')\n",
    "plt.show()"
   ]
  },
  {
   "cell_type": "code",
   "execution_count": null,
   "metadata": {},
   "outputs": [],
   "source": []
  }
 ],
 "metadata": {
  "kernelspec": {
   "display_name": "Python 3.7.3",
   "language": "python",
   "name": "py37"
  },
  "language_info": {
   "codemirror_mode": {
    "name": "ipython",
    "version": 3
   },
   "file_extension": ".py",
   "mimetype": "text/x-python",
   "name": "python",
   "nbconvert_exporter": "python",
   "pygments_lexer": "ipython3",
   "version": "3.7.3"
  }
 },
 "nbformat": 4,
 "nbformat_minor": 2
}
